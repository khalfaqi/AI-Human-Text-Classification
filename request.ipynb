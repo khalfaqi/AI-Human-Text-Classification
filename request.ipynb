{
 "cells": [
  {
   "cell_type": "code",
   "execution_count": 14,
   "metadata": {},
   "outputs": [],
   "source": [
    "import tensorflow as tf\n",
    "import pandas as pd\n",
    "import requests\n",
    "import json\n",
    "import base64"
   ]
  },
  {
   "cell_type": "code",
   "execution_count": 15,
   "metadata": {},
   "outputs": [],
   "source": [
    "data  = pd.read_csv(r'D:\\Data\\ai_human_data.csv')\n",
    "text = data['text'][3]"
   ]
  },
  {
   "cell_type": "code",
   "execution_count": 16,
   "metadata": {},
   "outputs": [],
   "source": [
    "def json_pre(text):\n",
    "    featurespace = {\n",
    "        'text': tf.train.Feature(bytes_list=tf.train.BytesList(value=[bytes(text, 'utf-8')]))}\n",
    "    \n",
    "    example = tf.train.Example(\n",
    "        features=tf.train.Features(feature=featurespace)\n",
    "    ).SerializeToString()\n",
    "    \n",
    "    result = [{\n",
    "        'examples': {\n",
    "            'b64': base64.b64encode(example).decode()}}]\n",
    "    \n",
    "    return json.dumps({\n",
    "        'signature_name': 'serving_default',\n",
    "        'instances': result\n",
    "    })"
   ]
  },
  {
   "cell_type": "code",
   "execution_count": 17,
   "metadata": {},
   "outputs": [],
   "source": [
    "def predict(text):\n",
    "    response = requests.post(\n",
    "        'http://localhost:8080/v1/models/ai-human-model:predict',\n",
    "        data = json_pre(text))\n",
    "    predict = response.json()['predictions'][0][0]\n",
    "    return predict"
   ]
  },
  {
   "cell_type": "code",
   "execution_count": 18,
   "metadata": {},
   "outputs": [
    {
     "name": "stdout",
     "output_type": "stream",
     "text": [
      "Many successful individuals have learned to cultivate resilience in the face of multiple failures. From Thomas Edison's over 1,000 failed attempts at inventing a working electric light bulb to J. K. Rowling's rejection from 12 of the 13 publishers she pitched, each of these individuals have demonstrated that with enough grit and determination, any seemingly insurmountable obstacle can be overcome.\n",
      "\n",
      "This offers a glimpse of some successes achieved by people who refused to give up: \n",
      "\n",
      "1. Thomas Edison faced 1,000 failed attempts at inventing a working electric light bulb before finally succeeding.\n",
      "\n",
      "2. After working as a journalist for 20 years, J.K. Rowling faced rejection from the first 12 publishers she pitched the manuscript for her now iconic Harry Potter series.\n",
      "\n",
      "3. Wrestling with depression and addiction, Grammy Award winner Lady Gaga took seven years to finish her debut album before finally becoming an international superstar.\n",
      "\n",
      "4. After being rejected by 150 publishers, Bill Gates helped revolutionize the software industry with the founding of Microsoft.\n",
      "\n",
      "5. After receiving 27 rejections, author John Grisham landed a major book deal with his first legal thriller The Firm.\n",
      "\n",
      "6. After playing with the same band for over 10 years, rapper Eminem sold over 10 million albums with his first full length release The Slim Shady LP.\n",
      "\n",
      "7. After launching an online book store in 1994 and facing near bankruptcy in the process, Jeff Bezos reinvented the way we shop with Amazon.\n",
      "\n",
      "8. Despite an initial lack of support, the Wright brothers managed to launch the world's first powered airplane in 1903.\n",
      "\n",
      "These remarkable individuals demonstrate that, with consistency and dedication, anything is possible. They prove that success often comes to those who don't back down in the face of adversity and who understand the value of never giving up on themselves. By understanding that resilience is essential to success, we can find the courage to keep going even when the going gets tough.\n",
      "\n",
      "And the prediction is.....\n",
      "AI (0.999990821)\n"
     ]
    }
   ],
   "source": [
    "predict = predict(text)\n",
    "print(f'{text}\\n')\n",
    "print(\"And the prediction is.....\")\n",
    "print(f'Human ({predict})' if predict < 0.6 else f'AI ({predict})')"
   ]
  }
 ],
 "metadata": {
  "kernelspec": {
   "display_name": "Python 3",
   "language": "python",
   "name": "python3"
  },
  "language_info": {
   "codemirror_mode": {
    "name": "ipython",
    "version": 3
   },
   "file_extension": ".py",
   "mimetype": "text/x-python",
   "name": "python",
   "nbconvert_exporter": "python",
   "pygments_lexer": "ipython3",
   "version": "3.9.13"
  }
 },
 "nbformat": 4,
 "nbformat_minor": 2
}
